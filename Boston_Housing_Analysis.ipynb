{
 "cells": [
  {
   "cell_type": "markdown",
   "metadata": {},
   "source": [
    "# Boston Housing Analysis\n",
    "\n",
    "This project analyzes the Boston Housing dataset to determine factors affecting housing prices. The analysis includes data exploration, hypothesis testing, and regression modeling to derive meaningful insights. This is relevant for understanding real estate markets and identifying key indicators of property value.\n"
   ]
  },
  {
   "cell_type": "markdown",
   "metadata": {},
   "source": [
    "## Import Libraries and Load Dataset\n",
    "\n",
    "We start by importing essential libraries and loading the dataset.\n"
   ]
  },
  {
   "cell_type": "code",
   "execution_count": null,
   "metadata": {
    "vscode": {
     "languageId": "plaintext"
    }
   },
   "outputs": [],
   "source": [
    "# Import libraries\n",
    "import pandas as pd\n",
    "import numpy as np\n",
    "import matplotlib.pyplot as plt\n",
    "import seaborn as sns\n",
    "from scipy import stats\n",
    "import statsmodels.api as sm\n",
    "\n",
    "# Set visualization style\n",
    "sns.set(style=\"whitegrid\")\n",
    "\n",
    "# Load the Boston Housing dataset\n",
    "data = pd.read_csv('Data/HousingData.csv')\n",
    "\n",
    "# Display the first few rows\n",
    "data.head()\n"
   ]
  },
  {
   "cell_type": "markdown",
   "metadata": {},
   "source": [
    "## Data Overview\n",
    "\n",
    "Exploring the structure and summary statistics of the dataset to understand its characteristics.\n"
   ]
  },
  {
   "cell_type": "code",
   "execution_count": null,
   "metadata": {
    "vscode": {
     "languageId": "plaintext"
    }
   },
   "outputs": [],
   "source": [
    "# Summary statistics and data types\n",
    "data.describe()\n"
   ]
  },
  {
   "cell_type": "markdown",
   "metadata": {},
   "source": [
    "## Correlation Analysis\n",
    "\n",
    "A correlation heatmap shows the relationships between variables, helping us identify potential predictors for housing prices.\n"
   ]
  },
  {
   "cell_type": "code",
   "execution_count": null,
   "metadata": {
    "vscode": {
     "languageId": "plaintext"
    }
   },
   "outputs": [],
   "source": [
    "plt.figure(figsize=(12, 8))\n",
    "sns.heatmap(data.corr(), annot=True, cmap='coolwarm')\n",
    "plt.title('Correlation Heatmap of Boston Housing Features')\n",
    "plt.show()\n"
   ]
  },
  {
   "cell_type": "markdown",
   "metadata": {},
   "source": [
    "## Hypothesis Testing\n",
    "\n",
    "We will test if there is a significant correlation between `CRIM` (crime rate) and `MEDV` (median house price). This relationship could indicate how much impact neighborhood safety has on property values.\n"
   ]
  },
  {
   "cell_type": "code",
   "execution_count": null,
   "metadata": {
    "vscode": {
     "languageId": "plaintext"
    }
   },
   "outputs": [],
   "source": [
    "# Hypothesis test: Correlation between CRIM (crime rate) and MEDV (price)\n",
    "crim_price_corr, p_value = stats.pearsonr(data['CRIM'], data['MEDV'])\n",
    "crim_price_corr, p_value\n"
   ]
  },
  {
   "cell_type": "markdown",
   "metadata": {},
   "source": [
    "## Simple Linear Regression\n",
    "\n",
    "Using `RM` (average number of rooms) to predict `MEDV` (median house price). The number of rooms is often a strong predictor of home value.\n"
   ]
  },
  {
   "cell_type": "code",
   "execution_count": null,
   "metadata": {
    "vscode": {
     "languageId": "plaintext"
    }
   },
   "outputs": [],
   "source": [
    "# Simple linear regression\n",
    "X = data['RM']\n",
    "y = data['MEDV']\n",
    "X = sm.add_constant(X)\n",
    "model = sm.OLS(y, X).fit()\n",
    "model.summary()\n"
   ]
  },
  {
   "cell_type": "markdown",
   "metadata": {},
   "source": [
    "## Multiple Linear Regression\n",
    "\n",
    "Using multiple predictors to predict `MEDV`, including `RM`, `LSTAT` (percent of lower status population), and `PTRATIO` (pupil-teacher ratio).\n"
   ]
  },
  {
   "cell_type": "code",
   "execution_count": null,
   "metadata": {
    "vscode": {
     "languageId": "plaintext"
    }
   },
   "outputs": [],
   "source": [
    "# Multiple regression\n",
    "X = data[['RM', 'LSTAT', 'PTRATIO']]\n",
    "X = sm.add_constant(X)\n",
    "model = sm.OLS(y, X).fit()\n",
    "model.summary()\n"
   ]
  },
  {
   "cell_type": "markdown",
   "metadata": {},
   "source": [
    "## Visualizations\n",
    "\n",
    "### 1. Rooms vs. Price\n"
   ]
  },
  {
   "cell_type": "code",
   "execution_count": null,
   "metadata": {
    "vscode": {
     "languageId": "plaintext"
    }
   },
   "outputs": [],
   "source": [
    "# Scatter plot\n",
    "plt.figure(figsize=(10, 6))\n",
    "sns.scatterplot(x='RM', y='MEDV', data=data)\n",
    "plt.title('Relationship Between Number of Rooms and Price')\n",
    "plt.xlabel('Average Number of Rooms')\n",
    "plt.ylabel('Median Price ($1000s)')\n",
    "plt.show()\n"
   ]
  },
  {
   "cell_type": "markdown",
   "metadata": {},
   "source": [
    "### 2. Prices by River Proximity\n"
   ]
  },
  {
   "cell_type": "code",
   "execution_count": null,
   "metadata": {
    "vscode": {
     "languageId": "plaintext"
    }
   },
   "outputs": [],
   "source": [
    "# Boxplot\n",
    "plt.figure(figsize=(8, 6))\n",
    "sns.boxplot(x='CHAS', y='MEDV', data=data)\n",
    "plt.title('Housing Prices by River Proximity')\n",
    "plt.xlabel('Charles River Proximity (1 = Yes, 0 = No)')\n",
    "plt.ylabel('Median Price ($1000s)')\n",
    "plt.show()\n"
   ]
  },
  {
   "cell_type": "markdown",
   "metadata": {},
   "source": [
    "## Conclusion\n",
    "\n",
    "This analysis of the Boston Housing dataset reveals several important factors that influence housing prices. Here are the main findings:\n",
    "\n",
    "1. **Number of Rooms (RM)**: \n",
    "   - There’s a strong positive correlation between the number of rooms in a house and its price. Our simple linear regression confirmed that `RM` significantly impacts `MEDV`, making it a key predictor of home value.\n",
    "   - This suggests that buyers are willing to pay more for larger homes with more rooms, a trend that could guide real estate developers and investors when assessing potential property improvements.\n",
    "\n",
    "2. **Crime Rate (CRIM)**:\n",
    "   - Higher crime rates are associated with lower housing prices, as shown by the correlation and hypothesis test between `CRIM` and `MEDV`. Neighborhood safety appears to be a crucial factor in determining property value.\n",
    "   - For urban planners and policymakers, this insight underscores the importance of reducing crime in order to stabilize or boost property values.\n",
    "\n",
    "3. **Socioeconomic Status (LSTAT)**:\n",
    "   - The percentage of lower status population (`LSTAT`) has a negative impact on housing prices, as seen in our multiple regression model. This is likely due to buyers’ perceptions of neighborhood quality, which includes socioeconomic status.\n",
    "   - Real estate professionals can use this metric to identify undervalued areas that may offer investment opportunities, particularly if the area shows signs of socioeconomic improvement.\n",
    "\n",
    "4. **Education Quality (PTRATIO)**:\n",
    "   - The pupil-teacher ratio (`PTRATIO`) was another significant predictor of housing prices. Lower ratios, which are associated with better-quality schools, corresponded with higher housing prices.\n",
    "   - This finding is relevant for families prioritizing educational quality and provides insights for real estate marketers who could emphasize proximity to quality schools in listings.\n",
    "\n",
    "5. **Proximity to Charles River (CHAS)**:\n",
    "   - Proximity to the Charles River has a minor positive effect on housing prices. However, since this feature only applies to certain properties, it’s less impactful than other factors like room count and crime rate.\n",
    "\n",
    "### Implications\n",
    "\n",
    "The findings from this analysis have several practical implications for different stakeholders:\n",
    "- **Real Estate Investors**: Can use predictors like `RM`, `LSTAT`, and `CRIM` to assess and compare property values.\n",
    "- **Urban Planners**: Addressing high crime rates and improving local education can contribute to higher property values.\n",
    "- **Homebuyers**: Families may prioritize homes with lower `PTRATIO` for quality schooling, and those near the Charles River for scenic advantages.\n",
    "\n",
    "Overall, this analysis provides a comprehensive look into factors that shape the real estate landscape in Boston, with broader applications to other urban areas with similar characteristics.\n"
   ]
  }
 ],
 "metadata": {
  "language_info": {
   "name": "python"
  }
 },
 "nbformat": 4,
 "nbformat_minor": 2
}
