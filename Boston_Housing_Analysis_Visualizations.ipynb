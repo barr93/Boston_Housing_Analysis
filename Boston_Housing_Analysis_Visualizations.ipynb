{
 "cells": [
  {
   "cell_type": "markdown",
   "id": "66b1eec5",
   "metadata": {},
   "source": [
    "# Boston Housing Analysis Visualizations\n",
    "\n",
    "This notebook contains visualizations for exploring relationships between various factors and housing prices in the Boston Housing dataset. These visualizations provide insights that can be valuable for real estate professionals, policymakers, and data analysts in understanding the determinants of housing prices in Boston."
   ]
  },
  {
   "cell_type": "code",
   "execution_count": null,
   "id": "748a3656",
   "metadata": {},
   "outputs": [],
   "source": [
    "\n",
    "# Import necessary libraries for data analysis and visualization\n",
    "import pandas as pd\n",
    "import numpy as np\n",
    "import matplotlib.pyplot as plt\n",
    "import seaborn as sns\n",
    "\n",
    "# Set visualization style\n",
    "sns.set(style=\"whitegrid\")\n",
    "\n",
    "# Load the Boston Housing dataset\n",
    "data = pd.read_csv('Data/HousingData.csv')\n",
    "data.head()\n"
   ]
  },
  {
   "cell_type": "markdown",
   "id": "14df700c",
   "metadata": {},
   "source": [
    "## Correlation Heatmap\n",
    "\n",
    "This heatmap displays the relationships between all variables, with `MEDV` (median home price) highlighted. Strong correlations can indicate potential predictors of housing prices, such as the number of rooms (`RM`) and percentage of lower-status population (`LSTAT`)."
   ]
  },
  {
   "cell_type": "code",
   "execution_count": null,
   "id": "ce0477d2",
   "metadata": {},
   "outputs": [],
   "source": [
    "\n",
    "# Plot the correlation heatmap\n",
    "plt.figure(figsize=(12, 8))\n",
    "sns.heatmap(data.corr(), annot=True, cmap='coolwarm')\n",
    "plt.title('Correlation Heatmap of Boston Housing Features')\n",
    "plt.show()\n"
   ]
  },
  {
   "cell_type": "markdown",
   "id": "695e3303",
   "metadata": {},
   "source": [
    "## Distribution of Home Prices (Histogram)\n",
    "\n",
    "This histogram provides an overview of home price distribution (`MEDV`), showing the spread of property values across Boston. The histogram helps identify if prices are skewed or normally distributed, important for predicting price ranges."
   ]
  },
  {
   "cell_type": "code",
   "execution_count": null,
   "id": "e494d1d2",
   "metadata": {},
   "outputs": [],
   "source": [
    "\n",
    "# Plot the distribution of home prices\n",
    "plt.figure(figsize=(10, 6))\n",
    "sns.histplot(data['MEDV'], bins=30, kde=True)\n",
    "plt.title('Distribution of Home Prices (MEDV)')\n",
    "plt.xlabel('Median Value of Homes ($1000s)')\n",
    "plt.ylabel('Frequency')\n",
    "plt.show()\n"
   ]
  },
  {
   "cell_type": "markdown",
   "id": "555dcf20",
   "metadata": {},
   "source": [
    "## Scatter Plot: Number of Rooms (RM) vs. Price (MEDV)\n",
    "\n",
    "This scatter plot visualizes the relationship between `RM` (average number of rooms per dwelling) and `MEDV` (price). A positive correlation is expected, where homes with more rooms tend to have higher prices, highlighting size as a key factor in property valuation."
   ]
  },
  {
   "cell_type": "code",
   "execution_count": null,
   "id": "402eb9d7",
   "metadata": {},
   "outputs": [],
   "source": [
    "\n",
    "# Scatter plot to show relationship between number of rooms and price\n",
    "plt.figure(figsize=(10, 6))\n",
    "sns.scatterplot(x='RM', y='MEDV', data=data)\n",
    "plt.title('Relationship Between Number of Rooms and Price')\n",
    "plt.xlabel('Average Number of Rooms')\n",
    "plt.ylabel('Median Price ($1000s)')\n",
    "plt.show()\n"
   ]
  },
  {
   "cell_type": "markdown",
   "id": "2058f2a8",
   "metadata": {},
   "source": [
    "## Box Plot: Prices by River Proximity (CHAS)\n",
    "\n",
    "This box plot compares prices for homes located near (`CHAS=1`) and away from (`CHAS=0`) the Charles River. Proximity to the river can be a premium feature, adding value to the property."
   ]
  },
  {
   "cell_type": "code",
   "execution_count": null,
   "id": "4bfa8d5f",
   "metadata": {},
   "outputs": [],
   "source": [
    "\n",
    "# Box plot to show effect of river proximity on home prices\n",
    "plt.figure(figsize=(8, 6))\n",
    "sns.boxplot(x='CHAS', y='MEDV', data=data)\n",
    "plt.title('Housing Prices by River Proximity')\n",
    "plt.xlabel('Charles River Proximity (1 = Near, 0 = Not Near)')\n",
    "plt.ylabel('Median Price ($1000s)')\n",
    "plt.show()\n"
   ]
  },
  {
   "cell_type": "markdown",
   "id": "32435da7",
   "metadata": {},
   "source": [
    "## Scatter Plot: Crime Rate (CRIM) vs. Price (MEDV)\n",
    "\n",
    "This plot examines the relationship between `CRIM` (crime rate) and `MEDV` (price). Generally, higher crime rates are associated with lower home values, reflecting how safety concerns affect property demand and pricing."
   ]
  },
  {
   "cell_type": "code",
   "execution_count": null,
   "id": "5d97b182",
   "metadata": {},
   "outputs": [],
   "source": [
    "\n",
    "# Scatter plot for crime rate versus home price\n",
    "plt.figure(figsize=(10, 6))\n",
    "sns.scatterplot(x='CRIM', y='MEDV', data=data)\n",
    "plt.title('Relationship Between Crime Rate and Home Price')\n",
    "plt.xlabel('Crime Rate per Capita')\n",
    "plt.ylabel('Median Price ($1000s)')\n",
    "plt.show()\n"
   ]
  },
  {
   "cell_type": "markdown",
   "id": "09111624",
   "metadata": {},
   "source": [
    "## Bar Plot: Average Price by Pupil-Teacher Ratio Groupings\n",
    "\n",
    "Grouped by `PTRATIO` (pupil-teacher ratio), this bar plot shows average home price by educational quality. Areas with better pupil-teacher ratios may command higher prices, reflecting the importance of education quality to families and buyers."
   ]
  },
  {
   "cell_type": "code",
   "execution_count": null,
   "id": "37c020a1",
   "metadata": {},
   "outputs": [],
   "source": [
    "\n",
    "# Define ranges for PTRATIO and plot average price by group\n",
    "data['PTRATIO_Group'] = pd.cut(data['PTRATIO'], bins=[0, 15, 20, 30], labels=['Low', 'Medium', 'High'])\n",
    "\n",
    "plt.figure(figsize=(8, 6))\n",
    "sns.barplot(x='PTRATIO_Group', y='MEDV', data=data, estimator=np.mean, ci=None)\n",
    "plt.title('Average Home Price by Pupil-Teacher Ratio Group')\n",
    "plt.xlabel('Pupil-Teacher Ratio Group')\n",
    "plt.ylabel('Average Median Price ($1000s)')\n",
    "plt.show()\n"
   ]
  },
  {
   "cell_type": "markdown",
   "id": "2aa13e1a",
   "metadata": {},
   "source": [
    "## Box Plot: Socioeconomic Status (LSTAT) Impact on Price\n",
    "\n",
    "Dividing `LSTAT` (percentage of lower-status population) into groups shows how different socioeconomic brackets affect property values. Higher `LSTAT` values typically correlate with lower property values."
   ]
  },
  {
   "cell_type": "code",
   "execution_count": null,
   "id": "bb6b20e9",
   "metadata": {},
   "outputs": [],
   "source": [
    "\n",
    "# Define LSTAT groups and plot their impact on price\n",
    "data['LSTAT_Group'] = pd.cut(data['LSTAT'], bins=[0, 10, 20, 30, 40], labels=['Very Low', 'Low', 'Medium', 'High'])\n",
    "\n",
    "plt.figure(figsize=(10, 6))\n",
    "sns.boxplot(x='LSTAT_Group', y='MEDV', data=data)\n",
    "plt.title('Home Price by Socioeconomic Status Group (LSTAT)')\n",
    "plt.xlabel('Socioeconomic Status Group')\n",
    "plt.ylabel('Median Price ($1000s)')\n",
    "plt.show()\n"
   ]
  }
 ],
 "metadata": {},
 "nbformat": 4,
 "nbformat_minor": 5
}
